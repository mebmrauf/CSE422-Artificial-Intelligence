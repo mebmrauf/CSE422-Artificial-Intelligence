{
  "cells": [
    {
      "cell_type": "markdown",
      "metadata": {
        "id": "x-oAJmE59jNM"
      },
      "source": [
        "# **CSE422 Lab: Neural Networks**\n"
      ]
    },
    {
      "cell_type": "markdown",
      "metadata": {
        "id": "CDAK_I09ye7k"
      },
      "source": [
        "## **Neural Networks**\n",
        "In machine learning, a neural network (also artificial neural network abbreviated ANN) is a model inspired by the structure and function of biological neural networks in animal brains.\n",
        "\n"
      ]
    },
    {
      "cell_type": "markdown",
      "metadata": {
        "id": "0U2BMppoZa_X"
      },
      "source": [
        "### **Forward Propagation**"
      ]
    },
    {
      "cell_type": "markdown",
      "metadata": {
        "id": "PnKSGDRqnDND"
      },
      "source": [
        "The forward propagation of a single layer can be mathematically expressed as follows:\n",
        "\n",
        "Let $f$ be the activation function. Then, for the $l^{th}$ layer, the input is $A^{[l-1]}$ and the output $A^{[l]}$ is computed as:\n",
        "\n",
        "$$Z^{[l]} = W^{[l]}A^{[l-1]} + B^{[l]}$$\n",
        "$$A^{[l]} = f(Z^{[l]})$$\n",
        "\n",
        "where $W^{[l]}$ is the weight matrix connecting $(l-1)^{th}$ layer to $l^{th}$ layer, $B^{[l]}$ is the bias matrix of $l^{th}$ layer, and $Z^{[l]}$ is the pre-activation output $l^{th}$ layer."
      ]
    },
    {
      "cell_type": "markdown",
      "metadata": {
        "id": "eKINvkRlZfR2"
      },
      "source": [
        "### **Backpropagation**"
      ]
    },
    {
      "cell_type": "markdown",
      "metadata": {
        "id": "Guka2zJ9pAZg"
      },
      "source": [
        "The backpropagation of a single layer can be mathematically expressed as follows:\n",
        "\n",
        "Let $Y$ be the output, $f$ be the activation function, and $E$ be the cost function. The upstream gradient for the output layer $D_u^{[L]}$, where $L$ is the number of layers in the network, is computed as:\n",
        "\n",
        "$$D_u^{[L]} = \\nabla_Y E$$\n",
        "\n",
        "Let $D^{[l]} = \\nabla_{Z^{[l]}} E$, where, $Z^{[l]}$ be the pre-activation output of $l^{th}$ layer. For $l^{th}$ layer, $D^{[l]}$ is computed as:\n",
        "\n",
        "$$D^{[l]} = D_u^{[l]} \\odot f'(Z^{[l]})$$\n",
        "\n",
        "Then, the partial derivatives of the cost function with respect to weight matrix $W^{[l]}$ and bias matrix $B^{[l]}$ are computed as:\n",
        "\n",
        "$$\\nabla_{W^{[l]}} E = D^{[l]} {A^{[l-1]}}^\\mathsf{T}$$\n",
        "$$\\nabla_{B^{[l]}} E = D^{[l]}$$\n",
        "\n",
        "where $A^{[l-1]}$ is the input from $(l-1)^{th}$ layer. Finally, the weight matrix $W^{[l]}$ and bias matrix $B^{[l]}$ are updated using the following equations:\n",
        "\n",
        "$$W^{[l]} \\rightarrow W^{[l]} - \\eta \\nabla_{W^{[l]}} E$$\n",
        "$$B^{[l]} \\rightarrow B^{[l]} - \\eta \\nabla_{B^{[l]}} E$$\n",
        "\n",
        "where $\\eta$ is the learning rate of the network.\n",
        "\n",
        "In the end, for $(l-1)^{th}$ layer, the upstream gradient $D_u^{[l-1]}$ is computed as:\n",
        "\n",
        "$$D_u^{[l-1]} = {D^{[l]} W_1^{[l]}}^\\mathsf{T}$$"
      ]
    },
    {
      "cell_type": "markdown",
      "metadata": {
        "id": "MylabKY3Mvcs"
      },
      "source": [
        "## **Implementation**"
      ]
    },
    {
      "cell_type": "markdown",
      "metadata": {
        "id": "DZldiu1MM5rj"
      },
      "source": [
        "### **Necassary Libraries**"
      ]
    },
    {
      "cell_type": "code",
      "execution_count": null,
      "metadata": {
        "id": "GWqNBiMN94Gk"
      },
      "outputs": [],
      "source": [
        "import numpy as np\n",
        "\n",
        "from tensorflow.keras.datasets import boston_housing\n",
        "from tensorflow.keras.datasets import mnist\n",
        "from tensorflow.keras import Sequential\n",
        "from tensorflow.keras.layers import Flatten\n",
        "from tensorflow.keras.layers import Dense\n",
        "from tensorflow.keras.optimizers import Adam\n",
        "from tensorflow.keras.losses import SparseCategoricalCrossentropy\n",
        "\n",
        "import pandas as pd\n",
        "from matplotlib import pyplot as plt"
      ]
    },
    {
      "cell_type": "markdown",
      "metadata": {
        "id": "a0RcMfcxzZ42"
      },
      "source": [
        "### **Activation Function**"
      ]
    },
    {
      "cell_type": "code",
      "execution_count": null,
      "metadata": {
        "id": "7hXmCq49zxhQ"
      },
      "outputs": [],
      "source": [
        "class ReLU:\n",
        "    # Apply activation function\n",
        "    def forwardPropagation(self, inp: np.array) -> np.array:\n",
        "        self.inputAct = np.maximum(0, inp)\n",
        "        return self.inputAct\n",
        "\n",
        "    # Calculate derivative of the activation function\n",
        "    def backPropagation(self, delta: np.array) -> np.array:\n",
        "        return delta * np.where(self.inputAct > 0, 1, 0)"
      ]
    },
    {
      "cell_type": "markdown",
      "metadata": {
        "id": "ddjLPfeCziIN"
      },
      "source": [
        "### **Loss Function**"
      ]
    },
    {
      "cell_type": "code",
      "execution_count": null,
      "metadata": {
        "id": "XSf3Jz97z0Sx"
      },
      "outputs": [],
      "source": [
        "class MeanSquareError:\n",
        "  def loss(self, Y: np.array, y:np.array) -> np.array:\n",
        "      self.Y = Y\n",
        "      self.y = y\n",
        "      return np.absolute((Y - y) ** 2).sum() / y.shape[0]\n",
        "\n",
        "  # Calculate derivative of the loss function\n",
        "  def deriv(self) -> np.array:\n",
        "      return (self.Y - self.y) / self.y.shape[0]"
      ]
    },
    {
      "cell_type": "markdown",
      "metadata": {
        "id": "4gkzMQAPznEg"
      },
      "source": [
        "### **Optimizer**"
      ]
    },
    {
      "cell_type": "code",
      "execution_count": null,
      "metadata": {
        "id": "-KqBd4nWz83x"
      },
      "outputs": [],
      "source": [
        "class GradientDescent:\n",
        "    def __init__(self, learningRate) -> None:\n",
        "        self.learningRate = learningRate\n",
        "\n",
        "    # Calculate gradients\n",
        "    def gradients(self, gradients) -> np.array:\n",
        "        return self.learningRate * gradients"
      ]
    },
    {
      "cell_type": "markdown",
      "metadata": {
        "id": "v3ux2YrEM_Nr"
      },
      "source": [
        "### **Necassary Functions**"
      ]
    },
    {
      "cell_type": "code",
      "execution_count": null,
      "metadata": {
        "id": "SLoqeP8p-KbM"
      },
      "outputs": [],
      "source": [
        "# To get activation function\n",
        "def getActivationFunction(activation: str) -> object:\n",
        "    if activation == \"RELU\":\n",
        "        return ReLU\n",
        "    else:\n",
        "        raise Exception(\"Cannot find the activation function.\")\n",
        "\n",
        "# To get loss function\n",
        "def getLossFunction(loss: str) -> object:\n",
        "    if loss == \"MSE\":\n",
        "        return MeanSquareError\n",
        "    else:\n",
        "        raise Exception(\"Cannot find the loss function.\")\n",
        "\n",
        "# To get optimizer\n",
        "def getOptimizer(optimizer: str) -> object:\n",
        "    if optimizer == \"GD\":\n",
        "        return GradientDescent\n",
        "    else:\n",
        "        raise Exception(\"Cannot find the optimizer.\")"
      ]
    },
    {
      "cell_type": "markdown",
      "metadata": {
        "id": "oZJS5Tmkdhqd"
      },
      "source": [
        "### **Single Layer of Neurons**"
      ]
    },
    {
      "cell_type": "code",
      "execution_count": null,
      "metadata": {
        "id": "9rq9aKiE9bG9"
      },
      "outputs": [],
      "source": [
        "class NeuronLayer:\n",
        "    def __init__(self, inputNeurons, outputNeurons, activation, biasFlag = True, randomState = 42) -> None:\n",
        "        np.random.seed(randomState)\n",
        "        # set variables\n",
        "        self.inputNeurons = inputNeurons\n",
        "        self.outputNeurons = outputNeurons\n",
        "        self.biasFlag = biasFlag\n",
        "\n",
        "        # get activation\n",
        "        self.activation = getActivationFunction(activation)()\n",
        "\n",
        "        # initiate parameters\n",
        "        self.weights = self.__initParameters((self.inputNeurons, self.outputNeurons))\n",
        "        self.bias = self.__initParameters((1, self.outputNeurons))\n",
        "\n",
        "    # Parameter initializer\n",
        "    def __initParameters(self, dimension: tuple) -> np.array:\n",
        "        return np.random.uniform(-np.sqrt(2/(dimension[0] + dimension[1])), np.sqrt(2/(dimension[0] + dimension[1])),size = (dimension[0], dimension[1]))\n",
        "\n",
        "    def build(self, optimizer, learningRate) -> None:\n",
        "        self.learningRate = learningRate\n",
        "        self.optimizer = getOptimizer(optimizer)(learningRate)\n",
        "\n",
        "    # Apply forward propagation\n",
        "    def forwardPropagation(self, X: np.array) -> np.array:\n",
        "        self.X = X\n",
        "\n",
        "        # Calculate weighted sum\n",
        "        self.output = np.dot(self.X, self.weights) + (self.biasFlag * self.bias)\n",
        "        # Apply activation function\n",
        "        self.output = self.activation.forwardPropagation(self.output)\n",
        "\n",
        "        return self.output\n",
        "\n",
        "    # Apply backpropagation\n",
        "    def backPropagation(self, upstreamGradient: np.array) -> np.array:\n",
        "        # Calculate activation gradients\n",
        "        delta = self.activation.backPropagation(upstreamGradient)\n",
        "\n",
        "        # Calculate parameter gradients\n",
        "        weightGrad = np.dot(self.X.T, delta) / self.X.shape[0]\n",
        "        biasGrad = np.dot(np.ones((1, self.X.shape[0])), delta) /  self.X.shape[0]\n",
        "\n",
        "        # Update parameters\n",
        "        self.weights -= self.optimizer.gradients(weightGrad)\n",
        "        self.bias -= self.optimizer.gradients(biasGrad)\n",
        "\n",
        "        # Calculate downstream gradients\n",
        "        downstreamGradient = np.dot(delta, self.weights.T) / self.X.shape[0]\n",
        "\n",
        "        return downstreamGradient"
      ]
    },
    {
      "cell_type": "markdown",
      "metadata": {
        "id": "UrWntw6Sdo6s"
      },
      "source": [
        "### **Model**"
      ]
    },
    {
      "cell_type": "code",
      "execution_count": null,
      "metadata": {
        "id": "GeGr6YlSSejW"
      },
      "outputs": [],
      "source": [
        "class Model:\n",
        "    # Create mini-batches\n",
        "    def __createBatch(self, X: np.array, Y: np.array, batchSize: int) -> tuple:\n",
        "        miniX, miniY = np.array([X[:batchSize]]), np.array([Y[:batchSize]])\n",
        "\n",
        "        for idx in range(1, X.shape[0] // batchSize):\n",
        "            miniX = np.append(miniX, np.array([X[idx * batchSize : (idx + 1) * batchSize]]), axis = 0)\n",
        "            miniY = np.append(miniY, np.array([Y[idx * batchSize : (idx + 1) * batchSize]]), axis = 0)\n",
        "\n",
        "        return miniX, miniY\n",
        "\n",
        "    # Apply forward propagation over the model\n",
        "    def __forwardPropagation(self, X: np.array) -> np.array:\n",
        "        output = X\n",
        "        for layer in self.layers:\n",
        "            output = layer.forwardPropagation(output)\n",
        "        return output\n",
        "\n",
        "    # Apply backpropagation over the model\n",
        "    def __backPropagation(self, Y: np.array) -> None:\n",
        "        gradient = Y\n",
        "        for layer in self.layers[::-1]:\n",
        "            gradient = layer.backPropagation(gradient)\n",
        "\n",
        "    def layers(self, layers: list) -> None:\n",
        "        self.layers = layers\n",
        "\n",
        "    # Compile the model\n",
        "    def compile(self, loss, optimizer, learningRate) -> None:\n",
        "        self.loss = getLossFunction(loss)()\n",
        "        for layer in self.layers[::-1]:\n",
        "            layer.build(optimizer, learningRate)\n",
        "\n",
        "    # Predict the output\n",
        "    def predict(self, X: np.array) -> np.array:\n",
        "        return self.__forwardPropagation(X)\n",
        "\n",
        "    # Evaluate the model\n",
        "    def evaluate(self, X: np.array, Y: np.array) -> np.array:\n",
        "        output = self.predict(X)\n",
        "        return self.loss.loss(output, Y)\n",
        "\n",
        "    # Train the model\n",
        "    def fit(self, X: np.array, Y: np.array, epochs: int, batchSize = None) -> np.array:\n",
        "        # Create mini-batch\n",
        "        batchSize = (batchSize if batchSize else X.shape[0])\n",
        "        self.X, self.Y = self.__createBatch(X, Y, batchSize)\n",
        "\n",
        "        self.error = np.array([])\n",
        "        # Run epoch\n",
        "        for epoch in range(epochs):\n",
        "            epochError = np.array([])\n",
        "\n",
        "            # Iterate over mini-batches\n",
        "            for idx in range(self.X.shape[0]):\n",
        "                epochError = np.append(epochError, self.loss.loss(self.__forwardPropagation(self.X[idx]), self.Y[idx]))\n",
        "                self.__backPropagation(self.loss.deriv())\n",
        "\n",
        "            # Print epoch information\n",
        "            epochError /= epochError.shape[0]\n",
        "            self.error = np.append(self.error, epochError.sum() / epochError.shape[0])\n",
        "            print(\"Epoch:\", epoch + 1, \"Error:\", round(epochError[0], 2))\n",
        "\n",
        "        return self.error"
      ]
    },
    {
      "cell_type": "markdown",
      "metadata": {
        "id": "OnCAOL6ngVXs"
      },
      "source": [
        "### **Load Dataset**"
      ]
    },
    {
      "cell_type": "code",
      "execution_count": null,
      "metadata": {
        "colab": {
          "base_uri": "https://localhost:8080/",
          "height": 458
        },
        "id": "n7GSn549sUZD",
        "outputId": "1e1ec067-38a8-4ebb-cc70-557286a72fb2"
      },
      "outputs": [
        {
          "output_type": "stream",
          "name": "stdout",
          "text": [
            "Downloading data from https://storage.googleapis.com/tensorflow/tf-keras-datasets/boston_housing.npz\n",
            "\u001b[1m57026/57026\u001b[0m \u001b[32m━━━━━━━━━━━━━━━━━━━━\u001b[0m\u001b[37m\u001b[0m \u001b[1m0s\u001b[0m 0us/step\n"
          ]
        },
        {
          "output_type": "execute_result",
          "data": {
            "text/plain": [
              "            0     1      2    3      4      5     6       7     8      9  \\\n",
              "0     0.09178   0.0   4.05  0.0  0.510  6.416  84.1  2.6463   5.0  296.0   \n",
              "1     0.05644  40.0   6.41  1.0  0.447  6.758  32.9  4.0776   4.0  254.0   \n",
              "2     0.10574   0.0  27.74  0.0  0.609  5.983  98.8  1.8681   4.0  711.0   \n",
              "3     0.09164   0.0  10.81  0.0  0.413  6.065   7.8  5.2873   4.0  305.0   \n",
              "4     5.09017   0.0  18.10  0.0  0.713  6.297  91.8  2.3682  24.0  666.0   \n",
              "..        ...   ...    ...  ...    ...    ...   ...     ...   ...    ...   \n",
              "501   0.17120   0.0   8.56  0.0  0.520  5.836  91.9  2.2110   5.0  384.0   \n",
              "502   0.29916  20.0   6.96  0.0  0.464  5.856  42.1  4.4290   3.0  223.0   \n",
              "503   0.01501  80.0   2.01  0.0  0.435  6.635  29.7  8.3440   4.0  280.0   \n",
              "504  11.16040   0.0  18.10  0.0  0.740  6.629  94.6  2.1247  24.0  666.0   \n",
              "505   0.22876   0.0   8.56  0.0  0.520  6.405  85.4  2.7147   5.0  384.0   \n",
              "\n",
              "       10      11     12  Target  \n",
              "0    16.6  395.50   9.04    23.6  \n",
              "1    17.6  396.90   3.53    32.4  \n",
              "2    20.1  390.11  18.07    13.6  \n",
              "3    19.2  390.91   5.52    22.8  \n",
              "4    20.2  385.09  17.27    16.1  \n",
              "..    ...     ...    ...     ...  \n",
              "501  20.9  395.67  18.66    19.5  \n",
              "502  18.6  388.65  13.00    21.1  \n",
              "503  17.0  390.94   5.99    24.5  \n",
              "504  20.2  109.85  23.27    13.4  \n",
              "505  20.9   70.80  10.63    18.6  \n",
              "\n",
              "[506 rows x 14 columns]"
            ],
            "text/html": [
              "\n",
              "  <div id=\"df-582cd4cd-59d3-4d51-b12a-7ca3d933d267\" class=\"colab-df-container\">\n",
              "    <div>\n",
              "<style scoped>\n",
              "    .dataframe tbody tr th:only-of-type {\n",
              "        vertical-align: middle;\n",
              "    }\n",
              "\n",
              "    .dataframe tbody tr th {\n",
              "        vertical-align: top;\n",
              "    }\n",
              "\n",
              "    .dataframe thead th {\n",
              "        text-align: right;\n",
              "    }\n",
              "</style>\n",
              "<table border=\"1\" class=\"dataframe\">\n",
              "  <thead>\n",
              "    <tr style=\"text-align: right;\">\n",
              "      <th></th>\n",
              "      <th>0</th>\n",
              "      <th>1</th>\n",
              "      <th>2</th>\n",
              "      <th>3</th>\n",
              "      <th>4</th>\n",
              "      <th>5</th>\n",
              "      <th>6</th>\n",
              "      <th>7</th>\n",
              "      <th>8</th>\n",
              "      <th>9</th>\n",
              "      <th>10</th>\n",
              "      <th>11</th>\n",
              "      <th>12</th>\n",
              "      <th>Target</th>\n",
              "    </tr>\n",
              "  </thead>\n",
              "  <tbody>\n",
              "    <tr>\n",
              "      <th>0</th>\n",
              "      <td>0.09178</td>\n",
              "      <td>0.0</td>\n",
              "      <td>4.05</td>\n",
              "      <td>0.0</td>\n",
              "      <td>0.510</td>\n",
              "      <td>6.416</td>\n",
              "      <td>84.1</td>\n",
              "      <td>2.6463</td>\n",
              "      <td>5.0</td>\n",
              "      <td>296.0</td>\n",
              "      <td>16.6</td>\n",
              "      <td>395.50</td>\n",
              "      <td>9.04</td>\n",
              "      <td>23.6</td>\n",
              "    </tr>\n",
              "    <tr>\n",
              "      <th>1</th>\n",
              "      <td>0.05644</td>\n",
              "      <td>40.0</td>\n",
              "      <td>6.41</td>\n",
              "      <td>1.0</td>\n",
              "      <td>0.447</td>\n",
              "      <td>6.758</td>\n",
              "      <td>32.9</td>\n",
              "      <td>4.0776</td>\n",
              "      <td>4.0</td>\n",
              "      <td>254.0</td>\n",
              "      <td>17.6</td>\n",
              "      <td>396.90</td>\n",
              "      <td>3.53</td>\n",
              "      <td>32.4</td>\n",
              "    </tr>\n",
              "    <tr>\n",
              "      <th>2</th>\n",
              "      <td>0.10574</td>\n",
              "      <td>0.0</td>\n",
              "      <td>27.74</td>\n",
              "      <td>0.0</td>\n",
              "      <td>0.609</td>\n",
              "      <td>5.983</td>\n",
              "      <td>98.8</td>\n",
              "      <td>1.8681</td>\n",
              "      <td>4.0</td>\n",
              "      <td>711.0</td>\n",
              "      <td>20.1</td>\n",
              "      <td>390.11</td>\n",
              "      <td>18.07</td>\n",
              "      <td>13.6</td>\n",
              "    </tr>\n",
              "    <tr>\n",
              "      <th>3</th>\n",
              "      <td>0.09164</td>\n",
              "      <td>0.0</td>\n",
              "      <td>10.81</td>\n",
              "      <td>0.0</td>\n",
              "      <td>0.413</td>\n",
              "      <td>6.065</td>\n",
              "      <td>7.8</td>\n",
              "      <td>5.2873</td>\n",
              "      <td>4.0</td>\n",
              "      <td>305.0</td>\n",
              "      <td>19.2</td>\n",
              "      <td>390.91</td>\n",
              "      <td>5.52</td>\n",
              "      <td>22.8</td>\n",
              "    </tr>\n",
              "    <tr>\n",
              "      <th>4</th>\n",
              "      <td>5.09017</td>\n",
              "      <td>0.0</td>\n",
              "      <td>18.10</td>\n",
              "      <td>0.0</td>\n",
              "      <td>0.713</td>\n",
              "      <td>6.297</td>\n",
              "      <td>91.8</td>\n",
              "      <td>2.3682</td>\n",
              "      <td>24.0</td>\n",
              "      <td>666.0</td>\n",
              "      <td>20.2</td>\n",
              "      <td>385.09</td>\n",
              "      <td>17.27</td>\n",
              "      <td>16.1</td>\n",
              "    </tr>\n",
              "    <tr>\n",
              "      <th>...</th>\n",
              "      <td>...</td>\n",
              "      <td>...</td>\n",
              "      <td>...</td>\n",
              "      <td>...</td>\n",
              "      <td>...</td>\n",
              "      <td>...</td>\n",
              "      <td>...</td>\n",
              "      <td>...</td>\n",
              "      <td>...</td>\n",
              "      <td>...</td>\n",
              "      <td>...</td>\n",
              "      <td>...</td>\n",
              "      <td>...</td>\n",
              "      <td>...</td>\n",
              "    </tr>\n",
              "    <tr>\n",
              "      <th>501</th>\n",
              "      <td>0.17120</td>\n",
              "      <td>0.0</td>\n",
              "      <td>8.56</td>\n",
              "      <td>0.0</td>\n",
              "      <td>0.520</td>\n",
              "      <td>5.836</td>\n",
              "      <td>91.9</td>\n",
              "      <td>2.2110</td>\n",
              "      <td>5.0</td>\n",
              "      <td>384.0</td>\n",
              "      <td>20.9</td>\n",
              "      <td>395.67</td>\n",
              "      <td>18.66</td>\n",
              "      <td>19.5</td>\n",
              "    </tr>\n",
              "    <tr>\n",
              "      <th>502</th>\n",
              "      <td>0.29916</td>\n",
              "      <td>20.0</td>\n",
              "      <td>6.96</td>\n",
              "      <td>0.0</td>\n",
              "      <td>0.464</td>\n",
              "      <td>5.856</td>\n",
              "      <td>42.1</td>\n",
              "      <td>4.4290</td>\n",
              "      <td>3.0</td>\n",
              "      <td>223.0</td>\n",
              "      <td>18.6</td>\n",
              "      <td>388.65</td>\n",
              "      <td>13.00</td>\n",
              "      <td>21.1</td>\n",
              "    </tr>\n",
              "    <tr>\n",
              "      <th>503</th>\n",
              "      <td>0.01501</td>\n",
              "      <td>80.0</td>\n",
              "      <td>2.01</td>\n",
              "      <td>0.0</td>\n",
              "      <td>0.435</td>\n",
              "      <td>6.635</td>\n",
              "      <td>29.7</td>\n",
              "      <td>8.3440</td>\n",
              "      <td>4.0</td>\n",
              "      <td>280.0</td>\n",
              "      <td>17.0</td>\n",
              "      <td>390.94</td>\n",
              "      <td>5.99</td>\n",
              "      <td>24.5</td>\n",
              "    </tr>\n",
              "    <tr>\n",
              "      <th>504</th>\n",
              "      <td>11.16040</td>\n",
              "      <td>0.0</td>\n",
              "      <td>18.10</td>\n",
              "      <td>0.0</td>\n",
              "      <td>0.740</td>\n",
              "      <td>6.629</td>\n",
              "      <td>94.6</td>\n",
              "      <td>2.1247</td>\n",
              "      <td>24.0</td>\n",
              "      <td>666.0</td>\n",
              "      <td>20.2</td>\n",
              "      <td>109.85</td>\n",
              "      <td>23.27</td>\n",
              "      <td>13.4</td>\n",
              "    </tr>\n",
              "    <tr>\n",
              "      <th>505</th>\n",
              "      <td>0.22876</td>\n",
              "      <td>0.0</td>\n",
              "      <td>8.56</td>\n",
              "      <td>0.0</td>\n",
              "      <td>0.520</td>\n",
              "      <td>6.405</td>\n",
              "      <td>85.4</td>\n",
              "      <td>2.7147</td>\n",
              "      <td>5.0</td>\n",
              "      <td>384.0</td>\n",
              "      <td>20.9</td>\n",
              "      <td>70.80</td>\n",
              "      <td>10.63</td>\n",
              "      <td>18.6</td>\n",
              "    </tr>\n",
              "  </tbody>\n",
              "</table>\n",
              "<p>506 rows × 14 columns</p>\n",
              "</div>\n",
              "    <div class=\"colab-df-buttons\">\n",
              "\n",
              "  <div class=\"colab-df-container\">\n",
              "    <button class=\"colab-df-convert\" onclick=\"convertToInteractive('df-582cd4cd-59d3-4d51-b12a-7ca3d933d267')\"\n",
              "            title=\"Convert this dataframe to an interactive table.\"\n",
              "            style=\"display:none;\">\n",
              "\n",
              "  <svg xmlns=\"http://www.w3.org/2000/svg\" height=\"24px\" viewBox=\"0 -960 960 960\">\n",
              "    <path d=\"M120-120v-720h720v720H120Zm60-500h600v-160H180v160Zm220 220h160v-160H400v160Zm0 220h160v-160H400v160ZM180-400h160v-160H180v160Zm440 0h160v-160H620v160ZM180-180h160v-160H180v160Zm440 0h160v-160H620v160Z\"/>\n",
              "  </svg>\n",
              "    </button>\n",
              "\n",
              "  <style>\n",
              "    .colab-df-container {\n",
              "      display:flex;\n",
              "      gap: 12px;\n",
              "    }\n",
              "\n",
              "    .colab-df-convert {\n",
              "      background-color: #E8F0FE;\n",
              "      border: none;\n",
              "      border-radius: 50%;\n",
              "      cursor: pointer;\n",
              "      display: none;\n",
              "      fill: #1967D2;\n",
              "      height: 32px;\n",
              "      padding: 0 0 0 0;\n",
              "      width: 32px;\n",
              "    }\n",
              "\n",
              "    .colab-df-convert:hover {\n",
              "      background-color: #E2EBFA;\n",
              "      box-shadow: 0px 1px 2px rgba(60, 64, 67, 0.3), 0px 1px 3px 1px rgba(60, 64, 67, 0.15);\n",
              "      fill: #174EA6;\n",
              "    }\n",
              "\n",
              "    .colab-df-buttons div {\n",
              "      margin-bottom: 4px;\n",
              "    }\n",
              "\n",
              "    [theme=dark] .colab-df-convert {\n",
              "      background-color: #3B4455;\n",
              "      fill: #D2E3FC;\n",
              "    }\n",
              "\n",
              "    [theme=dark] .colab-df-convert:hover {\n",
              "      background-color: #434B5C;\n",
              "      box-shadow: 0px 1px 3px 1px rgba(0, 0, 0, 0.15);\n",
              "      filter: drop-shadow(0px 1px 2px rgba(0, 0, 0, 0.3));\n",
              "      fill: #FFFFFF;\n",
              "    }\n",
              "  </style>\n",
              "\n",
              "    <script>\n",
              "      const buttonEl =\n",
              "        document.querySelector('#df-582cd4cd-59d3-4d51-b12a-7ca3d933d267 button.colab-df-convert');\n",
              "      buttonEl.style.display =\n",
              "        google.colab.kernel.accessAllowed ? 'block' : 'none';\n",
              "\n",
              "      async function convertToInteractive(key) {\n",
              "        const element = document.querySelector('#df-582cd4cd-59d3-4d51-b12a-7ca3d933d267');\n",
              "        const dataTable =\n",
              "          await google.colab.kernel.invokeFunction('convertToInteractive',\n",
              "                                                    [key], {});\n",
              "        if (!dataTable) return;\n",
              "\n",
              "        const docLinkHtml = 'Like what you see? Visit the ' +\n",
              "          '<a target=\"_blank\" href=https://colab.research.google.com/notebooks/data_table.ipynb>data table notebook</a>'\n",
              "          + ' to learn more about interactive tables.';\n",
              "        element.innerHTML = '';\n",
              "        dataTable['output_type'] = 'display_data';\n",
              "        await google.colab.output.renderOutput(dataTable, element);\n",
              "        const docLink = document.createElement('div');\n",
              "        docLink.innerHTML = docLinkHtml;\n",
              "        element.appendChild(docLink);\n",
              "      }\n",
              "    </script>\n",
              "  </div>\n",
              "\n",
              "\n",
              "<div id=\"df-7d432df8-6215-49ba-ba51-177c2f260f38\">\n",
              "  <button class=\"colab-df-quickchart\" onclick=\"quickchart('df-7d432df8-6215-49ba-ba51-177c2f260f38')\"\n",
              "            title=\"Suggest charts\"\n",
              "            style=\"display:none;\">\n",
              "\n",
              "<svg xmlns=\"http://www.w3.org/2000/svg\" height=\"24px\"viewBox=\"0 0 24 24\"\n",
              "     width=\"24px\">\n",
              "    <g>\n",
              "        <path d=\"M19 3H5c-1.1 0-2 .9-2 2v14c0 1.1.9 2 2 2h14c1.1 0 2-.9 2-2V5c0-1.1-.9-2-2-2zM9 17H7v-7h2v7zm4 0h-2V7h2v10zm4 0h-2v-4h2v4z\"/>\n",
              "    </g>\n",
              "</svg>\n",
              "  </button>\n",
              "\n",
              "<style>\n",
              "  .colab-df-quickchart {\n",
              "      --bg-color: #E8F0FE;\n",
              "      --fill-color: #1967D2;\n",
              "      --hover-bg-color: #E2EBFA;\n",
              "      --hover-fill-color: #174EA6;\n",
              "      --disabled-fill-color: #AAA;\n",
              "      --disabled-bg-color: #DDD;\n",
              "  }\n",
              "\n",
              "  [theme=dark] .colab-df-quickchart {\n",
              "      --bg-color: #3B4455;\n",
              "      --fill-color: #D2E3FC;\n",
              "      --hover-bg-color: #434B5C;\n",
              "      --hover-fill-color: #FFFFFF;\n",
              "      --disabled-bg-color: #3B4455;\n",
              "      --disabled-fill-color: #666;\n",
              "  }\n",
              "\n",
              "  .colab-df-quickchart {\n",
              "    background-color: var(--bg-color);\n",
              "    border: none;\n",
              "    border-radius: 50%;\n",
              "    cursor: pointer;\n",
              "    display: none;\n",
              "    fill: var(--fill-color);\n",
              "    height: 32px;\n",
              "    padding: 0;\n",
              "    width: 32px;\n",
              "  }\n",
              "\n",
              "  .colab-df-quickchart:hover {\n",
              "    background-color: var(--hover-bg-color);\n",
              "    box-shadow: 0 1px 2px rgba(60, 64, 67, 0.3), 0 1px 3px 1px rgba(60, 64, 67, 0.15);\n",
              "    fill: var(--button-hover-fill-color);\n",
              "  }\n",
              "\n",
              "  .colab-df-quickchart-complete:disabled,\n",
              "  .colab-df-quickchart-complete:disabled:hover {\n",
              "    background-color: var(--disabled-bg-color);\n",
              "    fill: var(--disabled-fill-color);\n",
              "    box-shadow: none;\n",
              "  }\n",
              "\n",
              "  .colab-df-spinner {\n",
              "    border: 2px solid var(--fill-color);\n",
              "    border-color: transparent;\n",
              "    border-bottom-color: var(--fill-color);\n",
              "    animation:\n",
              "      spin 1s steps(1) infinite;\n",
              "  }\n",
              "\n",
              "  @keyframes spin {\n",
              "    0% {\n",
              "      border-color: transparent;\n",
              "      border-bottom-color: var(--fill-color);\n",
              "      border-left-color: var(--fill-color);\n",
              "    }\n",
              "    20% {\n",
              "      border-color: transparent;\n",
              "      border-left-color: var(--fill-color);\n",
              "      border-top-color: var(--fill-color);\n",
              "    }\n",
              "    30% {\n",
              "      border-color: transparent;\n",
              "      border-left-color: var(--fill-color);\n",
              "      border-top-color: var(--fill-color);\n",
              "      border-right-color: var(--fill-color);\n",
              "    }\n",
              "    40% {\n",
              "      border-color: transparent;\n",
              "      border-right-color: var(--fill-color);\n",
              "      border-top-color: var(--fill-color);\n",
              "    }\n",
              "    60% {\n",
              "      border-color: transparent;\n",
              "      border-right-color: var(--fill-color);\n",
              "    }\n",
              "    80% {\n",
              "      border-color: transparent;\n",
              "      border-right-color: var(--fill-color);\n",
              "      border-bottom-color: var(--fill-color);\n",
              "    }\n",
              "    90% {\n",
              "      border-color: transparent;\n",
              "      border-bottom-color: var(--fill-color);\n",
              "    }\n",
              "  }\n",
              "</style>\n",
              "\n",
              "  <script>\n",
              "    async function quickchart(key) {\n",
              "      const quickchartButtonEl =\n",
              "        document.querySelector('#' + key + ' button');\n",
              "      quickchartButtonEl.disabled = true;  // To prevent multiple clicks.\n",
              "      quickchartButtonEl.classList.add('colab-df-spinner');\n",
              "      try {\n",
              "        const charts = await google.colab.kernel.invokeFunction(\n",
              "            'suggestCharts', [key], {});\n",
              "      } catch (error) {\n",
              "        console.error('Error during call to suggestCharts:', error);\n",
              "      }\n",
              "      quickchartButtonEl.classList.remove('colab-df-spinner');\n",
              "      quickchartButtonEl.classList.add('colab-df-quickchart-complete');\n",
              "    }\n",
              "    (() => {\n",
              "      let quickchartButtonEl =\n",
              "        document.querySelector('#df-7d432df8-6215-49ba-ba51-177c2f260f38 button');\n",
              "      quickchartButtonEl.style.display =\n",
              "        google.colab.kernel.accessAllowed ? 'block' : 'none';\n",
              "    })();\n",
              "  </script>\n",
              "</div>\n",
              "\n",
              "  <div id=\"id_b2322e56-04b8-41e8-8be9-c1477cd9cd43\">\n",
              "    <style>\n",
              "      .colab-df-generate {\n",
              "        background-color: #E8F0FE;\n",
              "        border: none;\n",
              "        border-radius: 50%;\n",
              "        cursor: pointer;\n",
              "        display: none;\n",
              "        fill: #1967D2;\n",
              "        height: 32px;\n",
              "        padding: 0 0 0 0;\n",
              "        width: 32px;\n",
              "      }\n",
              "\n",
              "      .colab-df-generate:hover {\n",
              "        background-color: #E2EBFA;\n",
              "        box-shadow: 0px 1px 2px rgba(60, 64, 67, 0.3), 0px 1px 3px 1px rgba(60, 64, 67, 0.15);\n",
              "        fill: #174EA6;\n",
              "      }\n",
              "\n",
              "      [theme=dark] .colab-df-generate {\n",
              "        background-color: #3B4455;\n",
              "        fill: #D2E3FC;\n",
              "      }\n",
              "\n",
              "      [theme=dark] .colab-df-generate:hover {\n",
              "        background-color: #434B5C;\n",
              "        box-shadow: 0px 1px 3px 1px rgba(0, 0, 0, 0.15);\n",
              "        filter: drop-shadow(0px 1px 2px rgba(0, 0, 0, 0.3));\n",
              "        fill: #FFFFFF;\n",
              "      }\n",
              "    </style>\n",
              "    <button class=\"colab-df-generate\" onclick=\"generateWithVariable('dataset')\"\n",
              "            title=\"Generate code using this dataframe.\"\n",
              "            style=\"display:none;\">\n",
              "\n",
              "  <svg xmlns=\"http://www.w3.org/2000/svg\" height=\"24px\"viewBox=\"0 0 24 24\"\n",
              "       width=\"24px\">\n",
              "    <path d=\"M7,19H8.4L18.45,9,17,7.55,7,17.6ZM5,21V16.75L18.45,3.32a2,2,0,0,1,2.83,0l1.4,1.43a1.91,1.91,0,0,1,.58,1.4,1.91,1.91,0,0,1-.58,1.4L9.25,21ZM18.45,9,17,7.55Zm-12,3A5.31,5.31,0,0,0,4.9,8.1,5.31,5.31,0,0,0,1,6.5,5.31,5.31,0,0,0,4.9,4.9,5.31,5.31,0,0,0,6.5,1,5.31,5.31,0,0,0,8.1,4.9,5.31,5.31,0,0,0,12,6.5,5.46,5.46,0,0,0,6.5,12Z\"/>\n",
              "  </svg>\n",
              "    </button>\n",
              "    <script>\n",
              "      (() => {\n",
              "      const buttonEl =\n",
              "        document.querySelector('#id_b2322e56-04b8-41e8-8be9-c1477cd9cd43 button.colab-df-generate');\n",
              "      buttonEl.style.display =\n",
              "        google.colab.kernel.accessAllowed ? 'block' : 'none';\n",
              "\n",
              "      buttonEl.onclick = () => {\n",
              "        google.colab.notebook.generateWithVariable('dataset');\n",
              "      }\n",
              "      })();\n",
              "    </script>\n",
              "  </div>\n",
              "\n",
              "    </div>\n",
              "  </div>\n"
            ],
            "application/vnd.google.colaboratory.intrinsic+json": {
              "type": "dataframe",
              "variable_name": "dataset",
              "summary": "{\n  \"name\": \"dataset\",\n  \"rows\": 506,\n  \"fields\": [\n    {\n      \"column\": 0,\n      \"properties\": {\n        \"dtype\": \"number\",\n        \"std\": 8.601545105332491,\n        \"min\": 0.00632,\n        \"max\": 88.9762,\n        \"num_unique_values\": 504,\n        \"samples\": [\n          1.22358,\n          0.33983,\n          8.26725\n        ],\n        \"semantic_type\": \"\",\n        \"description\": \"\"\n      }\n    },\n    {\n      \"column\": 1,\n      \"properties\": {\n        \"dtype\": \"number\",\n        \"std\": 23.322452994515064,\n        \"min\": 0.0,\n        \"max\": 100.0,\n        \"num_unique_values\": 26,\n        \"samples\": [\n          22.0,\n          30.0,\n          0.0\n        ],\n        \"semantic_type\": \"\",\n        \"description\": \"\"\n      }\n    },\n    {\n      \"column\": 2,\n      \"properties\": {\n        \"dtype\": \"number\",\n        \"std\": 6.860352940897583,\n        \"min\": 0.46,\n        \"max\": 27.74,\n        \"num_unique_values\": 76,\n        \"samples\": [\n          18.1,\n          1.69,\n          7.87\n        ],\n        \"semantic_type\": \"\",\n        \"description\": \"\"\n      }\n    },\n    {\n      \"column\": 3,\n      \"properties\": {\n        \"dtype\": \"number\",\n        \"std\": 0.25399404134041154,\n        \"min\": 0.0,\n        \"max\": 1.0,\n        \"num_unique_values\": 2,\n        \"samples\": [\n          1.0,\n          0.0\n        ],\n        \"semantic_type\": \"\",\n        \"description\": \"\"\n      }\n    },\n    {\n      \"column\": 4,\n      \"properties\": {\n        \"dtype\": \"number\",\n        \"std\": 0.11587767566755611,\n        \"min\": 0.385,\n        \"max\": 0.871,\n        \"num_unique_values\": 81,\n        \"samples\": [\n          0.4161,\n          0.51\n        ],\n        \"semantic_type\": \"\",\n        \"description\": \"\"\n      }\n    },\n    {\n      \"column\": 5,\n      \"properties\": {\n        \"dtype\": \"number\",\n        \"std\": 0.7026171434153236,\n        \"min\": 3.561,\n        \"max\": 8.78,\n        \"num_unique_values\": 446,\n        \"samples\": [\n          6.316,\n          5.272\n        ],\n        \"semantic_type\": \"\",\n        \"description\": \"\"\n      }\n    },\n    {\n      \"column\": 6,\n      \"properties\": {\n        \"dtype\": \"number\",\n        \"std\": 28.148861406903617,\n        \"min\": 2.9,\n        \"max\": 100.0,\n        \"num_unique_values\": 356,\n        \"samples\": [\n          58.4,\n          66.1\n        ],\n        \"semantic_type\": \"\",\n        \"description\": \"\"\n      }\n    },\n    {\n      \"column\": 7,\n      \"properties\": {\n        \"dtype\": \"number\",\n        \"std\": 2.1057101266276117,\n        \"min\": 1.1296,\n        \"max\": 12.1265,\n        \"num_unique_values\": 412,\n        \"samples\": [\n          3.6023,\n          5.1167\n        ],\n        \"semantic_type\": \"\",\n        \"description\": \"\"\n      }\n    },\n    {\n      \"column\": 8,\n      \"properties\": {\n        \"dtype\": \"number\",\n        \"std\": 8.70725938423938,\n        \"min\": 1.0,\n        \"max\": 24.0,\n        \"num_unique_values\": 9,\n        \"samples\": [\n          7.0,\n          4.0\n        ],\n        \"semantic_type\": \"\",\n        \"description\": \"\"\n      }\n    },\n    {\n      \"column\": 9,\n      \"properties\": {\n        \"dtype\": \"number\",\n        \"std\": 168.5371160549591,\n        \"min\": 187.0,\n        \"max\": 711.0,\n        \"num_unique_values\": 66,\n        \"samples\": [\n          289.0,\n          244.0\n        ],\n        \"semantic_type\": \"\",\n        \"description\": \"\"\n      }\n    },\n    {\n      \"column\": 10,\n      \"properties\": {\n        \"dtype\": \"number\",\n        \"std\": 2.164945523714444,\n        \"min\": 12.6,\n        \"max\": 22.0,\n        \"num_unique_values\": 46,\n        \"samples\": [\n          15.5,\n          17.4\n        ],\n        \"semantic_type\": \"\",\n        \"description\": \"\"\n      }\n    },\n    {\n      \"column\": 11,\n      \"properties\": {\n        \"dtype\": \"number\",\n        \"std\": 91.2948643841578,\n        \"min\": 0.32,\n        \"max\": 396.9,\n        \"num_unique_values\": 357,\n        \"samples\": [\n          354.31,\n          380.34\n        ],\n        \"semantic_type\": \"\",\n        \"description\": \"\"\n      }\n    },\n    {\n      \"column\": 12,\n      \"properties\": {\n        \"dtype\": \"number\",\n        \"std\": 7.141061511348571,\n        \"min\": 1.73,\n        \"max\": 37.97,\n        \"num_unique_values\": 455,\n        \"samples\": [\n          11.22,\n          21.14\n        ],\n        \"semantic_type\": \"\",\n        \"description\": \"\"\n      }\n    },\n    {\n      \"column\": \"Target\",\n      \"properties\": {\n        \"dtype\": \"number\",\n        \"std\": 9.197104087379818,\n        \"min\": 5.0,\n        \"max\": 50.0,\n        \"num_unique_values\": 229,\n        \"samples\": [\n          28.0,\n          20.1\n        ],\n        \"semantic_type\": \"\",\n        \"description\": \"\"\n      }\n    }\n  ]\n}"
            }
          },
          "metadata": {},
          "execution_count": 8
        }
      ],
      "source": [
        "# Import dataset\n",
        "(X_train, Y_train), (X_test, Y_test) = boston_housing.load_data(path='boston_housing.npz', test_split=0.2, seed=42)\n",
        "# Reshape target variable\n",
        "Y_train, Y_test = Y_train.reshape(Y_train.shape[0], 1), Y_test.reshape(Y_test.shape[0], 1)\n",
        "\n",
        "# Create Dataframe\n",
        "dataset = pd.DataFrame(np.concatenate((X_train, X_test), axis=0))\n",
        "dataset['Target'] = np.concatenate((Y_train, Y_test), axis = 0)\n",
        "dataset"
      ]
    },
    {
      "cell_type": "markdown",
      "metadata": {
        "id": "ZS832UhhgaDz"
      },
      "source": [
        "### **Model Training**"
      ]
    },
    {
      "cell_type": "code",
      "execution_count": null,
      "metadata": {
        "colab": {
          "base_uri": "https://localhost:8080/"
        },
        "id": "T-OpNW2cfBgH",
        "outputId": "6b9b6831-4f9e-4d4f-a8ae-23b0499715bd"
      },
      "outputs": [
        {
          "output_type": "stream",
          "name": "stdout",
          "text": [
            "Epoch: 1 Error: 226.65\n",
            "Epoch: 2 Error: 192.81\n",
            "Epoch: 3 Error: 167.51\n",
            "Epoch: 4 Error: 148.38\n",
            "Epoch: 5 Error: 133.75\n",
            "Epoch: 6 Error: 122.44\n",
            "Epoch: 7 Error: 113.6\n",
            "Epoch: 8 Error: 106.62\n",
            "Epoch: 9 Error: 101.07\n",
            "Epoch: 10 Error: 96.61\n",
            "Epoch: 11 Error: 92.99\n",
            "Epoch: 12 Error: 90.05\n",
            "Epoch: 13 Error: 87.63\n",
            "Epoch: 14 Error: 85.63\n",
            "Epoch: 15 Error: 83.97\n",
            "Epoch: 16 Error: 82.58\n",
            "Epoch: 17 Error: 81.41\n",
            "Epoch: 18 Error: 80.42\n",
            "Epoch: 19 Error: 79.57\n",
            "Epoch: 20 Error: 78.84\n",
            "Epoch: 21 Error: 78.22\n",
            "Epoch: 22 Error: 77.67\n",
            "Epoch: 23 Error: 77.19\n",
            "Epoch: 24 Error: 76.77\n",
            "Epoch: 25 Error: 76.39\n",
            "Epoch: 26 Error: 76.06\n",
            "Epoch: 27 Error: 75.75\n",
            "Epoch: 28 Error: 75.48\n",
            "Epoch: 29 Error: 75.22\n",
            "Epoch: 30 Error: 74.98\n",
            "Epoch: 31 Error: 74.77\n",
            "Epoch: 32 Error: 74.56\n",
            "Epoch: 33 Error: 74.37\n",
            "Epoch: 34 Error: 74.18\n",
            "Epoch: 35 Error: 74.01\n",
            "Epoch: 36 Error: 73.84\n",
            "Epoch: 37 Error: 73.68\n",
            "Epoch: 38 Error: 73.53\n",
            "Epoch: 39 Error: 73.38\n",
            "Epoch: 40 Error: 73.23\n",
            "Epoch: 41 Error: 73.09\n",
            "Epoch: 42 Error: 72.96\n",
            "Epoch: 43 Error: 72.83\n",
            "Epoch: 44 Error: 72.7\n",
            "Epoch: 45 Error: 72.57\n",
            "Epoch: 46 Error: 72.45\n",
            "Epoch: 47 Error: 72.33\n",
            "Epoch: 48 Error: 72.21\n",
            "Epoch: 49 Error: 72.09\n",
            "Epoch: 50 Error: 71.98\n",
            "Epoch: 51 Error: 71.87\n",
            "Epoch: 52 Error: 71.76\n",
            "Epoch: 53 Error: 71.65\n",
            "Epoch: 54 Error: 71.54\n",
            "Epoch: 55 Error: 71.44\n",
            "Epoch: 56 Error: 71.34\n",
            "Epoch: 57 Error: 71.24\n",
            "Epoch: 58 Error: 71.14\n",
            "Epoch: 59 Error: 71.04\n",
            "Epoch: 60 Error: 70.95\n",
            "Epoch: 61 Error: 70.85\n",
            "Epoch: 62 Error: 70.76\n",
            "Epoch: 63 Error: 70.67\n",
            "Epoch: 64 Error: 70.58\n",
            "Epoch: 65 Error: 70.49\n",
            "Epoch: 66 Error: 70.41\n",
            "Epoch: 67 Error: 70.32\n",
            "Epoch: 68 Error: 70.24\n",
            "Epoch: 69 Error: 70.16\n",
            "Epoch: 70 Error: 70.08\n",
            "Epoch: 71 Error: 70.0\n",
            "Epoch: 72 Error: 69.92\n",
            "Epoch: 73 Error: 69.84\n",
            "Epoch: 74 Error: 69.77\n",
            "Epoch: 75 Error: 69.69\n",
            "Epoch: 76 Error: 69.62\n",
            "Epoch: 77 Error: 69.55\n",
            "Epoch: 78 Error: 69.48\n",
            "Epoch: 79 Error: 69.41\n",
            "Epoch: 80 Error: 69.34\n",
            "Epoch: 81 Error: 69.27\n",
            "Epoch: 82 Error: 69.2\n",
            "Epoch: 83 Error: 69.14\n",
            "Epoch: 84 Error: 69.07\n",
            "Epoch: 85 Error: 69.01\n",
            "Epoch: 86 Error: 68.95\n",
            "Epoch: 87 Error: 68.89\n",
            "Epoch: 88 Error: 68.83\n",
            "Epoch: 89 Error: 68.77\n",
            "Epoch: 90 Error: 68.71\n",
            "Epoch: 91 Error: 68.65\n",
            "Epoch: 92 Error: 68.59\n",
            "Epoch: 93 Error: 68.54\n",
            "Epoch: 94 Error: 68.48\n",
            "Epoch: 95 Error: 68.43\n",
            "Epoch: 96 Error: 68.37\n",
            "Epoch: 97 Error: 68.32\n",
            "Epoch: 98 Error: 68.27\n",
            "Epoch: 99 Error: 68.22\n",
            "Epoch: 100 Error: 68.17\n",
            "Epoch: 101 Error: 68.12\n",
            "Epoch: 102 Error: 68.07\n",
            "Epoch: 103 Error: 68.02\n",
            "Epoch: 104 Error: 67.97\n",
            "Epoch: 105 Error: 67.92\n",
            "Epoch: 106 Error: 67.88\n",
            "Epoch: 107 Error: 67.83\n",
            "Epoch: 108 Error: 67.79\n",
            "Epoch: 109 Error: 67.74\n",
            "Epoch: 110 Error: 67.7\n",
            "Epoch: 111 Error: 67.66\n",
            "Epoch: 112 Error: 67.61\n",
            "Epoch: 113 Error: 67.57\n",
            "Epoch: 114 Error: 67.53\n",
            "Epoch: 115 Error: 67.49\n",
            "Epoch: 116 Error: 67.45\n",
            "Epoch: 117 Error: 67.41\n",
            "Epoch: 118 Error: 67.37\n",
            "Epoch: 119 Error: 67.33\n",
            "Epoch: 120 Error: 67.29\n",
            "Epoch: 121 Error: 67.26\n",
            "Epoch: 122 Error: 67.22\n",
            "Epoch: 123 Error: 67.18\n",
            "Epoch: 124 Error: 67.15\n",
            "Epoch: 125 Error: 67.11\n",
            "Epoch: 126 Error: 67.08\n",
            "Epoch: 127 Error: 67.04\n",
            "Epoch: 128 Error: 67.01\n",
            "Epoch: 129 Error: 66.98\n",
            "Epoch: 130 Error: 66.94\n",
            "Epoch: 131 Error: 66.91\n",
            "Epoch: 132 Error: 66.88\n",
            "Epoch: 133 Error: 66.85\n",
            "Epoch: 134 Error: 66.82\n",
            "Epoch: 135 Error: 66.79\n",
            "Epoch: 136 Error: 66.75\n",
            "Epoch: 137 Error: 66.72\n",
            "Epoch: 138 Error: 66.69\n",
            "Epoch: 139 Error: 66.67\n",
            "Epoch: 140 Error: 66.64\n",
            "Epoch: 141 Error: 66.61\n",
            "Epoch: 142 Error: 66.58\n",
            "Epoch: 143 Error: 66.55\n",
            "Epoch: 144 Error: 66.52\n",
            "Epoch: 145 Error: 66.5\n",
            "Epoch: 146 Error: 66.47\n",
            "Epoch: 147 Error: 66.44\n",
            "Epoch: 148 Error: 66.42\n",
            "Epoch: 149 Error: 66.39\n",
            "Epoch: 150 Error: 66.37\n",
            "Epoch: 151 Error: 66.34\n",
            "Epoch: 152 Error: 66.32\n",
            "Epoch: 153 Error: 66.29\n",
            "Epoch: 154 Error: 66.27\n",
            "Epoch: 155 Error: 66.24\n",
            "Epoch: 156 Error: 66.22\n",
            "Epoch: 157 Error: 66.19\n",
            "Epoch: 158 Error: 66.17\n",
            "Epoch: 159 Error: 66.15\n",
            "Epoch: 160 Error: 66.13\n",
            "Epoch: 161 Error: 66.1\n",
            "Epoch: 162 Error: 66.08\n",
            "Epoch: 163 Error: 66.06\n",
            "Epoch: 164 Error: 66.04\n",
            "Epoch: 165 Error: 66.02\n",
            "Epoch: 166 Error: 65.99\n",
            "Epoch: 167 Error: 65.97\n",
            "Epoch: 168 Error: 65.95\n",
            "Epoch: 169 Error: 65.93\n",
            "Epoch: 170 Error: 65.91\n",
            "Epoch: 171 Error: 65.89\n",
            "Epoch: 172 Error: 65.87\n",
            "Epoch: 173 Error: 65.85\n",
            "Epoch: 174 Error: 65.83\n",
            "Epoch: 175 Error: 65.81\n",
            "Epoch: 176 Error: 65.79\n",
            "Epoch: 177 Error: 65.77\n",
            "Epoch: 178 Error: 65.76\n",
            "Epoch: 179 Error: 65.74\n",
            "Epoch: 180 Error: 65.72\n",
            "Epoch: 181 Error: 65.7\n",
            "Epoch: 182 Error: 65.68\n",
            "Epoch: 183 Error: 65.66\n",
            "Epoch: 184 Error: 65.65\n",
            "Epoch: 185 Error: 65.63\n",
            "Epoch: 186 Error: 65.61\n",
            "Epoch: 187 Error: 65.59\n",
            "Epoch: 188 Error: 65.58\n",
            "Epoch: 189 Error: 65.56\n",
            "Epoch: 190 Error: 65.54\n",
            "Epoch: 191 Error: 65.53\n",
            "Epoch: 192 Error: 65.51\n",
            "Epoch: 193 Error: 65.5\n",
            "Epoch: 194 Error: 65.48\n",
            "Epoch: 195 Error: 65.46\n",
            "Epoch: 196 Error: 65.45\n",
            "Epoch: 197 Error: 65.43\n",
            "Epoch: 198 Error: 65.42\n",
            "Epoch: 199 Error: 65.4\n",
            "Epoch: 200 Error: 65.38\n",
            "Epoch: 201 Error: 65.37\n",
            "Epoch: 202 Error: 65.35\n",
            "Epoch: 203 Error: 65.34\n",
            "Epoch: 204 Error: 65.32\n",
            "Epoch: 205 Error: 65.31\n",
            "Epoch: 206 Error: 65.3\n",
            "Epoch: 207 Error: 65.28\n",
            "Epoch: 208 Error: 65.27\n",
            "Epoch: 209 Error: 65.25\n",
            "Epoch: 210 Error: 65.24\n",
            "Epoch: 211 Error: 65.22\n",
            "Epoch: 212 Error: 65.21\n",
            "Epoch: 213 Error: 65.2\n",
            "Epoch: 214 Error: 65.18\n",
            "Epoch: 215 Error: 65.17\n",
            "Epoch: 216 Error: 65.16\n",
            "Epoch: 217 Error: 65.14\n",
            "Epoch: 218 Error: 65.13\n",
            "Epoch: 219 Error: 65.12\n",
            "Epoch: 220 Error: 65.1\n",
            "Epoch: 221 Error: 65.09\n",
            "Epoch: 222 Error: 65.08\n",
            "Epoch: 223 Error: 65.06\n",
            "Epoch: 224 Error: 65.05\n",
            "Epoch: 225 Error: 65.04\n",
            "Epoch: 226 Error: 65.03\n",
            "Epoch: 227 Error: 65.01\n",
            "Epoch: 228 Error: 65.0\n",
            "Epoch: 229 Error: 64.99\n",
            "Epoch: 230 Error: 64.98\n",
            "Epoch: 231 Error: 64.96\n",
            "Epoch: 232 Error: 64.95\n",
            "Epoch: 233 Error: 64.94\n",
            "Epoch: 234 Error: 64.93\n",
            "Epoch: 235 Error: 64.91\n",
            "Epoch: 236 Error: 64.9\n",
            "Epoch: 237 Error: 64.89\n",
            "Epoch: 238 Error: 64.88\n",
            "Epoch: 239 Error: 64.87\n",
            "Epoch: 240 Error: 64.86\n",
            "Epoch: 241 Error: 64.84\n",
            "Epoch: 242 Error: 64.83\n",
            "Epoch: 243 Error: 64.82\n",
            "Epoch: 244 Error: 64.81\n",
            "Epoch: 245 Error: 64.8\n",
            "Epoch: 246 Error: 64.79\n",
            "Epoch: 247 Error: 64.78\n",
            "Epoch: 248 Error: 64.77\n",
            "Epoch: 249 Error: 64.75\n",
            "Epoch: 250 Error: 64.74\n",
            "Epoch: 251 Error: 64.73\n",
            "Epoch: 252 Error: 64.72\n",
            "Epoch: 253 Error: 64.71\n",
            "Epoch: 254 Error: 64.7\n",
            "Epoch: 255 Error: 64.69\n",
            "Epoch: 256 Error: 64.68\n",
            "Epoch: 257 Error: 64.67\n",
            "Epoch: 258 Error: 64.66\n",
            "Epoch: 259 Error: 64.65\n",
            "Epoch: 260 Error: 64.64\n",
            "Epoch: 261 Error: 64.63\n",
            "Epoch: 262 Error: 64.61\n",
            "Epoch: 263 Error: 64.6\n",
            "Epoch: 264 Error: 64.59\n",
            "Epoch: 265 Error: 64.58\n",
            "Epoch: 266 Error: 64.57\n",
            "Epoch: 267 Error: 64.56\n",
            "Epoch: 268 Error: 64.55\n",
            "Epoch: 269 Error: 64.54\n",
            "Epoch: 270 Error: 64.53\n",
            "Epoch: 271 Error: 64.52\n",
            "Epoch: 272 Error: 64.51\n",
            "Epoch: 273 Error: 64.5\n",
            "Epoch: 274 Error: 64.49\n",
            "Epoch: 275 Error: 64.48\n",
            "Epoch: 276 Error: 64.47\n",
            "Epoch: 277 Error: 64.46\n",
            "Epoch: 278 Error: 64.45\n",
            "Epoch: 279 Error: 64.44\n",
            "Epoch: 280 Error: 64.43\n",
            "Epoch: 281 Error: 64.42\n",
            "Epoch: 282 Error: 64.41\n",
            "Epoch: 283 Error: 64.41\n",
            "Epoch: 284 Error: 64.4\n",
            "Epoch: 285 Error: 64.39\n",
            "Epoch: 286 Error: 64.38\n",
            "Epoch: 287 Error: 64.37\n",
            "Epoch: 288 Error: 64.36\n",
            "Epoch: 289 Error: 64.35\n",
            "Epoch: 290 Error: 64.34\n",
            "Epoch: 291 Error: 64.33\n",
            "Epoch: 292 Error: 64.32\n",
            "Epoch: 293 Error: 64.31\n",
            "Epoch: 294 Error: 64.3\n",
            "Epoch: 295 Error: 64.29\n",
            "Epoch: 296 Error: 64.28\n",
            "Epoch: 297 Error: 64.27\n",
            "Epoch: 298 Error: 64.26\n",
            "Epoch: 299 Error: 64.26\n",
            "Epoch: 300 Error: 64.25\n"
          ]
        }
      ],
      "source": [
        "# Create model\n",
        "model = Model()\n",
        "model.layers = [NeuronLayer(13, 64, \"RELU\"), NeuronLayer(64, 1, \"RELU\")]\n",
        "# Compile model\n",
        "model.compile(loss=\"MSE\",\n",
        "              optimizer=\"GD\",\n",
        "              learningRate=0.01)\n",
        "\n",
        "# Train model\n",
        "training_Error = model.fit(X_train, Y_train, epochs=300, batchSize=None)"
      ]
    },
    {
      "cell_type": "markdown",
      "metadata": {
        "id": "1h6lUSPS4Odq"
      },
      "source": [
        "### **Model Evaluation**"
      ]
    },
    {
      "cell_type": "code",
      "execution_count": null,
      "metadata": {
        "colab": {
          "base_uri": "https://localhost:8080/",
          "height": 489
        },
        "id": "JmEOq_dp4upW",
        "outputId": "2b8eb679-3c6c-48c3-997a-9c10e39aaa34"
      },
      "outputs": [
        {
          "output_type": "display_data",
          "data": {
            "text/plain": [
              "<Figure size 640x480 with 1 Axes>"
            ],
            "image/png": "[encoded data removed]"
          },
          "metadata": {}
        },
        {
          "output_type": "stream",
          "name": "stdout",
          "text": [
            "Testing Error: 64.3\n"
          ]
        }
      ],
      "source": [
        "# Plot loss curve\n",
        "plt.plot(training_Error)\n",
        "plt.title(\"Loss Curve\")\n",
        "plt.xlabel(\"Epoch\")\n",
        "plt.ylabel(\"Loss\")\n",
        "plt.show()\n",
        "\n",
        "#Print test error\n",
        "print(f\"Testing Error: {round(model.evaluate(X_test, Y_test), 2)}\")"
      ]
    },
    {
      "cell_type": "markdown",
      "metadata": {
        "id": "ndh3neCqZy7G"
      },
      "source": [
        "## **Tensorflow for Neural Networks**"
      ]
    },
    {
      "cell_type": "markdown",
      "source": [
        "TensorFlow is an open-source machine learning framework developed by Google. It provides tools and libraries to build and train neural networks and other machine learning models, especially for deep learning tasks."
      ],
      "metadata": {
        "id": "NZ9ZZzaTVXGo"
      }
    },
    {
      "cell_type": "markdown",
      "metadata": {
        "id": "z37sqSU6hBrT"
      },
      "source": [
        "### **Load Dataset**"
      ]
    },
    {
      "cell_type": "code",
      "execution_count": null,
      "metadata": {
        "id": "Im0jzbMRZ-hN",
        "colab": {
          "base_uri": "https://localhost:8080/"
        },
        "outputId": "d4554a32-865b-49ec-9355-49eeaa3ccb4c"
      },
      "outputs": [
        {
          "output_type": "stream",
          "name": "stdout",
          "text": [
            "Downloading data from https://storage.googleapis.com/tensorflow/tf-keras-datasets/mnist.npz\n",
            "\u001b[1m11490434/11490434\u001b[0m \u001b[32m━━━━━━━━━━━━━━━━━━━━\u001b[0m\u001b[37m\u001b[0m \u001b[1m0s\u001b[0m 0us/step\n"
          ]
        }
      ],
      "source": [
        "(X_train, Y_train), (X_test, Y_test) = mnist.load_data()"
      ]
    },
    {
      "cell_type": "code",
      "source": [
        "fig, axes = plt.subplots(1, 5, figsize=(12, 12))\n",
        "\n",
        "# Insert images\n",
        "for i in range(5):\n",
        "    axes[i].imshow(X_train[i])\n",
        "\n",
        "plt.show()"
      ],
      "metadata": {
        "colab": {
          "base_uri": "https://localhost:8080/",
          "height": 215
        },
        "id": "KBDvP4i18ZNc",
        "outputId": "501fe7ed-dfc5-46d2-e3b0-95bc5d479af3"
      },
      "execution_count": null,
      "outputs": [
        {
          "output_type": "display_data",
          "data": {
            "text/plain": [
              "<Figure size 1200x1200 with 5 Axes>"
            ],
            "image/png": "[encoded data removed]"
          },
          "metadata": {}
        }
      ]
    },
    {
      "cell_type": "markdown",
      "source": [
        "### **Preprocess Data**"
      ],
      "metadata": {
        "id": "_OXZT1GL69r7"
      }
    },
    {
      "cell_type": "code",
      "source": [
        "X_train, X_test, Y_train, Y_test = X_train.astype(\"float32\") / 255, X_test.astype(\"float32\") / 255, Y_train.astype(\"float32\"), Y_test.astype(\"float32\")"
      ],
      "metadata": {
        "id": "h4YdzNr7695b"
      },
      "execution_count": null,
      "outputs": []
    },
    {
      "cell_type": "markdown",
      "metadata": {
        "id": "iJW1s7z5hFsq"
      },
      "source": [
        "### **Model Training**"
      ]
    },
    {
      "cell_type": "code",
      "execution_count": null,
      "metadata": {
        "colab": {
          "base_uri": "https://localhost:8080/"
        },
        "id": "kxqNnc0JhIrC",
        "outputId": "4e54fa83-cd45-4b00-8032-d1b8f47c740b"
      },
      "outputs": [
        {
          "output_type": "stream",
          "name": "stderr",
          "text": [
            "/usr/local/lib/python3.10/dist-packages/keras/src/layers/reshaping/flatten.py:37: UserWarning: Do not pass an `input_shape`/`input_dim` argument to a layer. When using Sequential models, prefer using an `Input(shape)` object as the first layer in the model instead.\n",
            "  super().__init__(**kwargs)\n"
          ]
        },
        {
          "output_type": "stream",
          "name": "stdout",
          "text": [
            "Epoch 1/20\n"
          ]
        },
        {
          "output_type": "stream",
          "name": "stderr",
          "text": [
            "/usr/local/lib/python3.10/dist-packages/keras/src/backend/tensorflow/nn.py:635: UserWarning: \"`sparse_categorical_crossentropy` received `from_logits=True`, but the `output` argument was produced by a Softmax activation and thus does not represent logits. Was this intended?\n",
            "  output, from_logits = _get_logits(\n"
          ]
        },
        {
          "output_type": "stream",
          "name": "stdout",
          "text": [
            "\u001b[1m469/469\u001b[0m \u001b[32m━━━━━━━━━━━━━━━━━━━━\u001b[0m\u001b[37m\u001b[0m \u001b[1m3s\u001b[0m 4ms/step - accuracy: 0.8255 - loss: 0.6357\n",
            "Epoch 2/20\n",
            "\u001b[1m469/469\u001b[0m \u001b[32m━━━━━━━━━━━━━━━━━━━━\u001b[0m\u001b[37m\u001b[0m \u001b[1m3s\u001b[0m 7ms/step - accuracy: 0.9492 - loss: 0.1774\n",
            "Epoch 3/20\n",
            "\u001b[1m469/469\u001b[0m \u001b[32m━━━━━━━━━━━━━━━━━━━━\u001b[0m\u001b[37m\u001b[0m \u001b[1m4s\u001b[0m 4ms/step - accuracy: 0.9640 - loss: 0.1233\n",
            "Epoch 4/20\n",
            "\u001b[1m469/469\u001b[0m \u001b[32m━━━━━━━━━━━━━━━━━━━━\u001b[0m\u001b[37m\u001b[0m \u001b[1m2s\u001b[0m 4ms/step - accuracy: 0.9748 - loss: 0.0881\n",
            "Epoch 5/20\n",
            "\u001b[1m469/469\u001b[0m \u001b[32m━━━━━━━━━━━━━━━━━━━━\u001b[0m\u001b[37m\u001b[0m \u001b[1m2s\u001b[0m 4ms/step - accuracy: 0.9794 - loss: 0.0732\n",
            "Epoch 6/20\n",
            "\u001b[1m469/469\u001b[0m \u001b[32m━━━━━━━━━━━━━━━━━━━━\u001b[0m\u001b[37m\u001b[0m \u001b[1m3s\u001b[0m 4ms/step - accuracy: 0.9820 - loss: 0.0614\n",
            "Epoch 7/20\n",
            "\u001b[1m469/469\u001b[0m \u001b[32m━━━━━━━━━━━━━━━━━━━━\u001b[0m\u001b[37m\u001b[0m \u001b[1m4s\u001b[0m 7ms/step - accuracy: 0.9864 - loss: 0.0504\n",
            "Epoch 8/20\n",
            "\u001b[1m469/469\u001b[0m \u001b[32m━━━━━━━━━━━━━━━━━━━━\u001b[0m\u001b[37m\u001b[0m \u001b[1m4s\u001b[0m 4ms/step - accuracy: 0.9879 - loss: 0.0414\n",
            "Epoch 9/20\n",
            "\u001b[1m469/469\u001b[0m \u001b[32m━━━━━━━━━━━━━━━━━━━━\u001b[0m\u001b[37m\u001b[0m \u001b[1m3s\u001b[0m 4ms/step - accuracy: 0.9899 - loss: 0.0368\n",
            "Epoch 10/20\n",
            "\u001b[1m469/469\u001b[0m \u001b[32m━━━━━━━━━━━━━━━━━━━━\u001b[0m\u001b[37m\u001b[0m \u001b[1m3s\u001b[0m 4ms/step - accuracy: 0.9914 - loss: 0.0302\n",
            "Epoch 11/20\n",
            "\u001b[1m469/469\u001b[0m \u001b[32m━━━━━━━━━━━━━━━━━━━━\u001b[0m\u001b[37m\u001b[0m \u001b[1m4s\u001b[0m 7ms/step - accuracy: 0.9929 - loss: 0.0263\n",
            "Epoch 12/20\n",
            "\u001b[1m469/469\u001b[0m \u001b[32m━━━━━━━━━━━━━━━━━━━━\u001b[0m\u001b[37m\u001b[0m \u001b[1m4s\u001b[0m 4ms/step - accuracy: 0.9950 - loss: 0.0205\n",
            "Epoch 13/20\n",
            "\u001b[1m469/469\u001b[0m \u001b[32m━━━━━━━━━━━━━━━━━━━━\u001b[0m\u001b[37m\u001b[0m \u001b[1m2s\u001b[0m 4ms/step - accuracy: 0.9961 - loss: 0.0184\n",
            "Epoch 14/20\n",
            "\u001b[1m469/469\u001b[0m \u001b[32m━━━━━━━━━━━━━━━━━━━━\u001b[0m\u001b[37m\u001b[0m \u001b[1m2s\u001b[0m 4ms/step - accuracy: 0.9972 - loss: 0.0146\n",
            "Epoch 15/20\n",
            "\u001b[1m469/469\u001b[0m \u001b[32m━━━━━━━━━━━━━━━━━━━━\u001b[0m\u001b[37m\u001b[0m \u001b[1m3s\u001b[0m 5ms/step - accuracy: 0.9972 - loss: 0.0135\n",
            "Epoch 16/20\n",
            "\u001b[1m469/469\u001b[0m \u001b[32m━━━━━━━━━━━━━━━━━━━━\u001b[0m\u001b[37m\u001b[0m \u001b[1m3s\u001b[0m 7ms/step - accuracy: 0.9975 - loss: 0.0116\n",
            "Epoch 17/20\n",
            "\u001b[1m469/469\u001b[0m \u001b[32m━━━━━━━━━━━━━━━━━━━━\u001b[0m\u001b[37m\u001b[0m \u001b[1m2s\u001b[0m 4ms/step - accuracy: 0.9983 - loss: 0.0091\n",
            "Epoch 18/20\n",
            "\u001b[1m469/469\u001b[0m \u001b[32m━━━━━━━━━━━━━━━━━━━━\u001b[0m\u001b[37m\u001b[0m \u001b[1m2s\u001b[0m 4ms/step - accuracy: 0.9985 - loss: 0.0081\n",
            "Epoch 19/20\n",
            "\u001b[1m469/469\u001b[0m \u001b[32m━━━━━━━━━━━━━━━━━━━━\u001b[0m\u001b[37m\u001b[0m \u001b[1m3s\u001b[0m 4ms/step - accuracy: 0.9988 - loss: 0.0072\n",
            "Epoch 20/20\n",
            "\u001b[1m469/469\u001b[0m \u001b[32m━━━━━━━━━━━━━━━━━━━━\u001b[0m\u001b[37m\u001b[0m \u001b[1m3s\u001b[0m 4ms/step - accuracy: 0.9992 - loss: 0.0060\n"
          ]
        }
      ],
      "source": [
        "# Create model\n",
        "model = Sequential([\n",
        "  Flatten(input_shape=(28, 28)),\n",
        "  Dense(128, activation='relu'),\n",
        "  Dense(10, activation=\"softmax\")\n",
        "])\n",
        "\n",
        "# Compile model\n",
        "model.compile(optimizer=Adam(0.001),\n",
        "              loss=SparseCategoricalCrossentropy(from_logits=True),\n",
        "              metrics=['accuracy'])\n",
        "\n",
        "# Train model\n",
        "history = model.fit(X_train, Y_train, epochs = 20, batch_size=128)"
      ]
    },
    {
      "cell_type": "markdown",
      "source": [
        "### **Model Evaluation**"
      ],
      "metadata": {
        "id": "DwVes0Ix68Mc"
      }
    },
    {
      "cell_type": "code",
      "source": [
        "# Plot loss curve\n",
        "plt.plot(history.history['loss'])\n",
        "plt.title(\"Loss Curve\")\n",
        "plt.xlabel(\"Epoch\")\n",
        "plt.ylabel(\"Loss\")\n",
        "plt.show()\n",
        "\n",
        "#Print test error\n",
        "print(f\"Testing Accuracy: {round(model.evaluate(X_test, Y_test)[1] * 100, 2)}%\")"
      ],
      "metadata": {
        "colab": {
          "base_uri": "https://localhost:8080/",
          "height": 507
        },
        "id": "zqsNfPRp68qi",
        "outputId": "6d77d121-2a30-4553-a774-9c0b0db8a90f"
      },
      "execution_count": null,
      "outputs": [
        {
          "output_type": "display_data",
          "data": {
            "text/plain": [
              "<Figure size 640x480 with 1 Axes>"
            ],
            "image/png": "[encoded data removed]"
          },
          "metadata": {}
        },
        {
          "output_type": "stream",
          "name": "stdout",
          "text": [
            "\u001b[1m313/313\u001b[0m \u001b[32m━━━━━━━━━━━━━━━━━━━━\u001b[0m\u001b[37m\u001b[0m \u001b[1m1s\u001b[0m 3ms/step - accuracy: 0.9719 - loss: 0.1003\n",
            "Testing Accuracy: 97.64%\n"
          ]
        }
      ]
    }
  ],
  "metadata": {
    "colab": {
      "provenance": []
    },
    "kernelspec": {
      "display_name": "Python 3",
      "name": "python3"
    },
    "language_info": {
      "name": "python"
    }
  },
  "nbformat": 4,
  "nbformat_minor": 0
}