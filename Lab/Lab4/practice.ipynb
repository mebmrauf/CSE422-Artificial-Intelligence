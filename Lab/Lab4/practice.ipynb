{
 "cells": [
  {
   "cell_type": "markdown",
   "metadata": {},
   "source": [
    "**REMEMBER**\n",
    "\n",
    "Import the package, aka `import pandas as pd`\n",
    "\n",
    "A table of data is stored as a pandas `DataFrame`\n",
    "\n",
    "Each column in a `DataFrame` is a `Series`\n",
    "\n",
    "You can do things by applying a method to a `DataFrame` or `Series`"
   ]
  },
  {
   "cell_type": "code",
   "execution_count": 1,
   "metadata": {},
   "outputs": [],
   "source": [
    "import pandas as pd"
   ]
  },
  {
   "cell_type": "code",
   "execution_count": 7,
   "metadata": {},
   "outputs": [],
   "source": [
    "df = pd.DataFrame({\n",
    "    \"Name\" : [\"Abrar Sadik\", \"Aayan Sadik\", \"Arham Sadik\", \"Anika Sama\"],\n",
    "    \"Age\" : [6, 4, 1, 31],\n",
    "    \"Sex\" : [\"Male\", \"Male\", \"Male\", \"Female\"]\n",
    "})"
   ]
  },
  {
   "cell_type": "code",
   "execution_count": 8,
   "metadata": {},
   "outputs": [
    {
     "name": "stdout",
     "output_type": "stream",
     "text": [
      "          Name  Age     Sex\n",
      "0  Abrar Sadik    6    Male\n",
      "1  Aayan Sadik    4    Male\n",
      "2  Arham Sadik    1    Male\n",
      "3   Anika Sama   31  Female\n"
     ]
    }
   ],
   "source": [
    "print(df)"
   ]
  },
  {
   "cell_type": "code",
   "execution_count": 9,
   "metadata": {},
   "outputs": [
    {
     "name": "stdout",
     "output_type": "stream",
     "text": [
      "0     6\n",
      "1     4\n",
      "2     1\n",
      "3    31\n",
      "Name: Age, dtype: int64\n"
     ]
    }
   ],
   "source": [
    "print(df['Age'])"
   ]
  },
  {
   "cell_type": "code",
   "execution_count": 13,
   "metadata": {},
   "outputs": [
    {
     "name": "stdout",
     "output_type": "stream",
     "text": [
      "31\n"
     ]
    }
   ],
   "source": [
    "print(df['Age'].max())"
   ]
  },
  {
   "cell_type": "code",
   "execution_count": 14,
   "metadata": {},
   "outputs": [
    {
     "name": "stdout",
     "output_type": "stream",
     "text": [
      "1\n"
     ]
    }
   ],
   "source": [
    "print(df['Age'].min())"
   ]
  },
  {
   "cell_type": "code",
   "execution_count": 15,
   "metadata": {},
   "outputs": [
    {
     "name": "stdout",
     "output_type": "stream",
     "text": [
      "10.5\n"
     ]
    }
   ],
   "source": [
    "print(df['Age'].mean())"
   ]
  },
  {
   "cell_type": "code",
   "execution_count": 17,
   "metadata": {},
   "outputs": [
    {
     "name": "stdout",
     "output_type": "stream",
     "text": [
      "0    2\n",
      "1    0\n",
      "2    1\n",
      "3    3\n",
      "Name: Age, dtype: int64\n"
     ]
    }
   ],
   "source": [
    "print(df['Age'].mod(4))"
   ]
  },
  {
   "cell_type": "code",
   "execution_count": 19,
   "metadata": {},
   "outputs": [
    {
     "name": "stdout",
     "output_type": "stream",
     "text": [
      "5.0\n"
     ]
    }
   ],
   "source": [
    "print(df['Age'].median())"
   ]
  },
  {
   "cell_type": "code",
   "execution_count": 28,
   "metadata": {},
   "outputs": [
    {
     "name": "stdout",
     "output_type": "stream",
     "text": [
      "         Age\n",
      "count   4.00\n",
      "mean   10.50\n",
      "std    13.82\n",
      "min     1.00\n",
      "25%     3.25\n",
      "50%     5.00\n",
      "75%    12.25\n",
      "max    31.00\n"
     ]
    }
   ],
   "source": [
    "print(df.describe().round(2))"
   ]
  },
  {
   "cell_type": "code",
   "execution_count": 29,
   "metadata": {},
   "outputs": [
    {
     "name": "stdout",
     "output_type": "stream",
     "text": [
      "       Age\n",
      "count    4\n",
      "mean    10\n",
      "std     13\n",
      "min      1\n",
      "25%      3\n",
      "50%      5\n",
      "75%     12\n",
      "max     31\n"
     ]
    }
   ],
   "source": [
    "print(df.describe().round(2).astype(int))"
   ]
  }
 ],
 "metadata": {
  "kernelspec": {
   "display_name": "Python 3",
   "language": "python",
   "name": "python3"
  },
  "language_info": {
   "codemirror_mode": {
    "name": "ipython",
    "version": 3
   },
   "file_extension": ".py",
   "mimetype": "text/x-python",
   "name": "python",
   "nbconvert_exporter": "python",
   "pygments_lexer": "ipython3",
   "version": "3.12.6"
  }
 },
 "nbformat": 4,
 "nbformat_minor": 2
}
